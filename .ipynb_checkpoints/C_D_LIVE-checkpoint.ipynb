{
 "cells": [
  {
   "cell_type": "markdown",
   "metadata": {},
   "source": [
    "**IMPORTING THE MODULES**"
   ]
  },
  {
   "cell_type": "code",
   "execution_count": null,
   "metadata": {},
   "outputs": [],
   "source": [
    "import cv2\n",
    "import pandas as pd\n",
    "import numpy as np\n",
    "import matplotlib.pyplot as plt\n",
    "%matplotlib inline"
   ]
  },
  {
   "cell_type": "markdown",
   "metadata": {},
   "source": [
    "**STARTING THE CAMERA**"
   ]
  },
  {
   "cell_type": "code",
   "execution_count": null,
   "metadata": {},
   "outputs": [],
   "source": [
    "cap=cv2.VideoCapture(0)"
   ]
  },
  {
   "cell_type": "markdown",
   "metadata": {},
   "source": [
    "**COLOURS DETECTION** \n",
    " \n",
    "1. Capuring the image from the camera\n",
    "2. Converting the image to HSV format\n",
    "3. Setting upper and lower ranges\n",
    "4. Creating a mask\n",
    "5. Searching for the contours\n",
    "6. Displaying the results i.e. detection of colours"
   ]
  },
  {
   "cell_type": "code",
   "execution_count": 4,
   "metadata": {},
   "outputs": [],
   "source": [
    "while(1):\n",
    "    _, img = cap.read()\n",
    "        \n",
    "\n",
    "    hsv=cv2.cvtColor(img,cv2.COLOR_BGR2HSV)\n",
    "\n",
    "    #Definig the range of red color\n",
    "    red_lower=np.array([136,87,111],np.uint8)\n",
    "    red_upper=np.array([180,255,255],np.uint8)\n",
    "\n",
    "    #Defining the Range of Blue color\n",
    "    blue_lower=np.array([99,115,150],np.uint8)\n",
    "    blue_upper=np.array([110,255,255],np.uint8)\n",
    "    \n",
    "    #Defining the Range of yellow color\n",
    "    yellow_lower=np.array([22,60,200],np.uint8)\n",
    "    yellow_upper=np.array([60,255,255],np.uint8)\n",
    "\n",
    "    #Range of red,blue and yellow color in the image\n",
    "    red=cv2.inRange(hsv, red_lower, red_upper)\n",
    "    blue=cv2.inRange(hsv,blue_lower,blue_upper)\n",
    "    yellow=cv2.inRange(hsv,yellow_lower,yellow_upper)\n",
    "    \n",
    "    #Morphing the image creating masks, Dilation  \n",
    "    kernal = np.ones((5 ,5), \"uint8\")\n",
    "\n",
    "    red=cv2.dilate(red, kernal)\n",
    "    res=cv2.bitwise_and(img, img, mask = red)\n",
    "\n",
    "    blue=cv2.dilate(blue,kernal)\n",
    "    res1=cv2.bitwise_and(img, img, mask = blue)\n",
    "\n",
    "    yellow=cv2.dilate(yellow,kernal)\n",
    "    res2=cv2.bitwise_and(img, img, mask = yellow)    \n",
    "\n",
    "\n",
    "    #Checking for the Red Color\n",
    "    (contours,hierarchy)=cv2.findContours(red,cv2.RETR_TREE,cv2.CHAIN_APPROX_SIMPLE)\n",
    "    \n",
    "    for pic, contour in enumerate(contours):\n",
    "        area = cv2.contourArea(contour)\n",
    "        if(area>300):\n",
    "            \n",
    "            x,y,w,h = cv2.boundingRect(contour)\t\n",
    "            img = cv2.rectangle(img,(x,y),(x+w,y+h),(0,0,255),2)\n",
    "            cv2.putText(img,\"RED color\",(x,y),cv2.FONT_HERSHEY_SIMPLEX, 0.7, (0,0,255))\n",
    "            \n",
    "    #Checking for the Blue Color\n",
    "    (contours,hierarchy)=cv2.findContours(blue,cv2.RETR_TREE,cv2.CHAIN_APPROX_SIMPLE)\n",
    "    for pic, contour in enumerate(contours):\n",
    "        area = cv2.contourArea(contour)\n",
    "        if(area>300):\n",
    "            x,y,w,h = cv2.boundingRect(contour)\t\n",
    "            img = cv2.rectangle(img,(x,y),(x+w,y+h),(255,0,0),2)\n",
    "            cv2.putText(img,\"Blue color\",(x,y),cv2.FONT_HERSHEY_SIMPLEX, 0.7, (255,0,0))\n",
    "\n",
    "    #Checking for the yellow Color\n",
    "    (contours,hierarchy)=cv2.findContours(yellow,cv2.RETR_TREE,cv2.CHAIN_APPROX_SIMPLE)\n",
    "    for pic, contour in enumerate(contours):\n",
    "        area = cv2.contourArea(contour)\n",
    "        if(area>300):\n",
    "            x,y,w,h = cv2.boundingRect(contour)\t\n",
    "            img = cv2.rectangle(img,(x,y),(x+w,y+h),(0,255,0),2)\n",
    "            cv2.putText(img,\"yellow  color\",(x,y),cv2.FONT_HERSHEY_SIMPLEX, 1.0, (0,255,0))  \n",
    "            \n",
    "           \n",
    "    #Opening the image\n",
    "    cv2.imshow(\"Color Tracking\",img)\n",
    "    if cv2.waitKey(1) or 0xFF == ord('q'):\n",
    "        cap.release()\n",
    "        cv2.destroyAllWindows()\n",
    "        break  "
   ]
  },
  {
   "cell_type": "code",
   "execution_count": null,
   "metadata": {},
   "outputs": [],
   "source": []
  }
 ],
 "metadata": {
  "kernelspec": {
   "display_name": "Python 3",
   "language": "python",
   "name": "python3"
  },
  "language_info": {
   "codemirror_mode": {
    "name": "ipython",
    "version": 3
   },
   "file_extension": ".py",
   "mimetype": "text/x-python",
   "name": "python",
   "nbconvert_exporter": "python",
   "pygments_lexer": "ipython3",
   "version": "3.8.5"
  }
 },
 "nbformat": 4,
 "nbformat_minor": 4
}
