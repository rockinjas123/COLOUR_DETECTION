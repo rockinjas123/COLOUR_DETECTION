{
 "cells": [
  {
   "cell_type": "code",
   "execution_count": 18,
   "metadata": {},
   "outputs": [],
   "source": [
    "import cv2\n",
    "import pandas as pd\n",
    "import numpy as np\n",
    "import matplotlib.pyplot as plt\n",
    "%matplotlib inline"
   ]
  },
  {
   "cell_type": "code",
   "execution_count": 20,
   "metadata": {},
   "outputs": [
    {
     "ename": "IndentationError",
     "evalue": "unindent does not match any outer indentation level (<tokenize>, line 37)",
     "output_type": "error",
     "traceback": [
      "\u001b[0;36m  File \u001b[0;32m\"<tokenize>\"\u001b[0;36m, line \u001b[0;32m37\u001b[0m\n\u001b[0;31m    red=cv2.dilate(red, kernal)\u001b[0m\n\u001b[0m    ^\u001b[0m\n\u001b[0;31mIndentationError\u001b[0m\u001b[0;31m:\u001b[0m unindent does not match any outer indentation level\n"
     ]
    }
   ],
   "source": [
    "#importing modules\n",
    "\n",
    "import cv2   \n",
    "import numpy as np\n",
    "\n",
    "#capturing video through webcam\n",
    "cap=cv2.VideoCapture(0)\n",
    "\n",
    "while(1):\n",
    "\t_, img = cap.read()\n",
    "\t    \n",
    "\t#converting frame(img i.e BGR) to HSV (hue-saturation-value)\n",
    "\n",
    "\thsv=cv2.cvtColor(img,cv2.COLOR_BGR2HSV)\n",
    "\n",
    "\t#definig the range of red color\n",
    "\tred_lower=np.array([136,87,111],np.uint8)\n",
    "\tred_upper=np.array([180,255,255],np.uint8)\n",
    "\n",
    "\t#defining the Range of Blue color\n",
    "\tblue_lower=np.array([99,115,150],np.uint8)\n",
    "\tblue_upper=np.array([110,255,255],np.uint8)\n",
    "\t\n",
    "\t#defining the Range of yellow color\n",
    "\tyellow_lower=np.array([22,60,200],np.uint8)\n",
    "\tyellow_upper=np.array([60,255,255],np.uint8)\n",
    "\n",
    "\t#finding the range of red,blue and yellow color in the image\n",
    "\tred=cv2.inRange(hsv, red_lower, red_upper)\n",
    "\tblue=cv2.inRange(hsv,blue_lower,blue_upper)\n",
    "\tyellow=cv2.inRange(hsv,yellow_lower,yellow_upper)\n",
    "\t\n",
    "\t#Morphological transformation, Dilation \n",
    "    \n",
    "\tkernal = np.ones((5 ,5), \"uint8\")\n",
    "\n",
    "\tred=cv2.dilate(red, kernal)\n",
    "\tres=cv2.bitwise_and(img, img, mask = red)\n",
    "\n",
    "\tblue=cv2.dilate(blue,kernal)\n",
    "\tres1=cv2.bitwise_and(img, img, mask = blue)\n",
    "\n",
    "\tyellow=cv2.dilate(yellow,kernal)\n",
    "\tres2=cv2.bitwise_and(img, img, mask = yellow)    \n",
    "\n",
    "\n",
    "\t#Tracking the Red Color\n",
    "\t(_,contours,hierarchy)=cv2.findContours(red,cv2.RETR_TREE,cv2.CHAIN_APPROX_SIMPLE)\n",
    "\t\n",
    "\tfor pic, contour in enumerate(contours):\n",
    "\t\tarea = cv2.contourArea(contour)\n",
    "\t\tif(area>300):\n",
    "\t\t\t\n",
    "\t\t\tx,y,w,h = cv2.boundingRect(contour)\t\n",
    "\t\t\timg = cv2.rectangle(img,(x,y),(x+w,y+h),(0,0,255),2)\n",
    "\t\t\tcv2.putText(img,\"RED color\",(x,y),cv2.FONT_HERSHEY_SIMPLEX, 0.7, (0,0,255))\n",
    "\t\t\t\n",
    "\t#Tracking the Blue Color\n",
    "\t(_,contours,hierarchy)=cv2.findContours(blue,cv2.RETR_TREE,cv2.CHAIN_APPROX_SIMPLE)\n",
    "\tfor pic, contour in enumerate(contours):\n",
    "\t\tarea = cv2.contourArea(contour)\n",
    "\t\tif(area>300):\n",
    "\t\t\tx,y,w,h = cv2.boundingRect(contour)\t\n",
    "\t\t\timg = cv2.rectangle(img,(x,y),(x+w,y+h),(255,0,0),2)\n",
    "\t\t\tcv2.putText(img,\"Blue color\",(x,y),cv2.FONT_HERSHEY_SIMPLEX, 0.7, (255,0,0))\n",
    "\n",
    "\t#Tracking the yellow Color\n",
    "\t(_,contours,hierarchy)=cv2.findContours(yellow,cv2.RETR_TREE,cv2.CHAIN_APPROX_SIMPLE)\n",
    "\tfor pic, contour in enumerate(contours):\n",
    "\t\tarea = cv2.contourArea(contour)\n",
    "\t\tif(area>300):\n",
    "\t\t\tx,y,w,h = cv2.boundingRect(contour)\t\n",
    "\t\t\timg = cv2.rectangle(img,(x,y),(x+w,y+h),(0,255,0),2)\n",
    "\t\t\tcv2.putText(img,\"yellow  color\",(x,y),cv2.FONT_HERSHEY_SIMPLEX, 1.0, (0,255,0))  \n",
    "            \n",
    "           \n",
    "    \t#cv2.imshow(\"Redcolour\",red)\n",
    "    \tcv2.imshow(\"Color Tracking\",img)\n",
    "    \t#cv2.imshow(\"red\",res) \t\n",
    "    \tif cv2.waitKey(10) & 0xFF == ord('q'):\n",
    "    \t\tcap.release()\n",
    "    \t\tcv2.destroyAllWindows()\n",
    "    \t\tbreak  \n",
    "          \n",
    "\n",
    "    \n"
   ]
  },
  {
   "cell_type": "markdown",
   "metadata": {},
   "source": [
    "col_names=['color','color_name','hex_code','R','G','B']\n",
    "color_csv=pd.read_csv(\"colors.csv\",names=col_names,header=None)\n",
    "color_csv.head()"
   ]
  },
  {
   "cell_type": "markdown",
   "metadata": {},
   "source": [
    "clicked=False"
   ]
  },
  {
   "cell_type": "markdown",
   "metadata": {},
   "source": [
    "def draw_function(event,x,y,flags,params):\n",
    "    if(event== cv2.EVENT_LBUTTONDBLCLK):\n",
    "        global xcor,ycor,b,g,r,clicked\n",
    "        clicked=True\n",
    "        xcor=x\n",
    "        ycor=y\n",
    "        b,g,r=image[ycor,xcor]\n",
    "        b=int(b)\n",
    "        g=int(g)\n",
    "        r=int(r)"
   ]
  },
  {
   "cell_type": "markdown",
   "metadata": {},
   "source": [
    "def colour_name(R,G,B):\n",
    "    mini = 1000\n",
    "    for i in range(len(color_csv)):\n",
    "        diff = abs(R - int(color_csv.loc[i,'R'])) + abs(G - int(color_csv.loc[i,'G'])) + abs(B - int(color_csv.loc[i,'B']))\n",
    "        if diff <= mini:\n",
    "            mini = diff\n",
    "            colour = color_csv.loc[i, 'color_name']\n",
    "    return colour "
   ]
  },
  {
   "cell_type": "markdown",
   "metadata": {},
   "source": [
    "cv2.namedWindow('image')\n",
    "cv2.setMouseCallback('image', draw_function)"
   ]
  },
  {
   "cell_type": "markdown",
   "metadata": {},
   "source": [
    "cap=cv2.VideoCapture(0) #to access the webcam"
   ]
  },
  {
   "cell_type": "markdown",
   "metadata": {},
   "source": [
    "while True:\n",
    "    ret,image=cap.read()\n",
    "    cv2.imshow(\"image\",image)\n",
    "    if clicked: \n",
    "        cv2.rectangle(image, (20,20), (600,60), (b,g,r), -1)\n",
    "        text = colour_name(r,g,b) + ' R=' + str(r) + ' G=' + str(g) + ' B=' + str(b)\n",
    "        cv2.putText(image, text, (50,50), 2,0.8, (255,255,255),2,cv2.LINE_AA)\n",
    "        if r+g+b >=600:\n",
    "            cv2.putText(image, text, (50,50), 2,0.8, (0,0,0),2,cv2.LINE_AA)\n",
    "\n",
    "    if cv2.waitKey(20) & 0xFF == 27:\n",
    "        break\n",
    "\n",
    "cv2.destroyAllWindows()"
   ]
  },
  {
   "cell_type": "code",
   "execution_count": null,
   "metadata": {},
   "outputs": [],
   "source": []
  }
 ],
 "metadata": {
  "kernelspec": {
   "display_name": "Python 3",
   "language": "python",
   "name": "python3"
  },
  "language_info": {
   "codemirror_mode": {
    "name": "ipython",
    "version": 3
   },
   "file_extension": ".py",
   "mimetype": "text/x-python",
   "name": "python",
   "nbconvert_exporter": "python",
   "pygments_lexer": "ipython3",
   "version": "3.8.5"
  }
 },
 "nbformat": 4,
 "nbformat_minor": 4
}
